{
 "cells": [
  {
   "cell_type": "markdown",
   "id": "59dc60e9-b07c-4dd6-a1f0-d87ba11d94b4",
   "metadata": {},
   "source": [
    "## -------------------------------------USC CED Data Axel SBA Classifier---------------------------------"
   ]
  },
  {
   "cell_type": "markdown",
   "id": "261b5ffa-e532-4b16-85c1-1c2bc2d1e2f0",
   "metadata": {},
   "source": [
    "---CREATED BY TIMOTHY LABOUNKO---\n",
    "\n",
    "Purpose of this program is to classify all of the businesses we have in our small business database based on SBA classifications.\n",
    "To do this, we gathered sepearate dabatases (6 seperate ones) and identifies which of our small businesses are part of the SBA databases.\n",
    "We classify them as either \"yes\" if certified, \"self\" if self certified, and \"no\" if not certified."
   ]
  },
  {
   "cell_type": "markdown",
   "id": "c2779f8c-5ecb-4441-af6b-e3b8a76b90e8",
   "metadata": {},
   "source": [
    " "
   ]
  },
  {
   "cell_type": "markdown",
   "id": "bd94ab3a-0459-4d60-80d4-fb366737c19b",
   "metadata": {},
   "source": [
    " "
   ]
  },
  {
   "cell_type": "markdown",
   "id": "7089c108-48e2-4d8d-a64d-7a6580839075",
   "metadata": {},
   "source": [
    " "
   ]
  },
  {
   "cell_type": "markdown",
   "id": "8642d89c-b5ea-43eb-8eae-abcc5d48e333",
   "metadata": {},
   "source": [
    " "
   ]
  },
  {
   "cell_type": "markdown",
   "id": "07f9ccee-91fe-496a-9469-f99680e3672d",
   "metadata": {},
   "source": [
    " "
   ]
  },
  {
   "cell_type": "markdown",
   "id": "6c9be1bd-8f8e-4d32-a249-c8f4545c7239",
   "metadata": {},
   "source": [
    " "
   ]
  },
  {
   "cell_type": "markdown",
   "id": "657123e7-b60c-4e90-a98d-563ab5f1c216",
   "metadata": {},
   "source": [
    "## Import all of the necessary libraries for loading and creating spreadsheets."
   ]
  },
  {
   "cell_type": "markdown",
   "id": "b3c4a573-60de-49ce-8b1a-e3ad770ea79d",
   "metadata": {},
   "source": [
    " "
   ]
  },
  {
   "cell_type": "code",
   "execution_count": 1,
   "id": "4b7875bb-8d9f-4cc1-863b-b144440e01ba",
   "metadata": {
    "tags": []
   },
   "outputs": [],
   "source": [
    "import pandas as pd\n",
    "import numpy as np\n",
    "import matplotlib.pyplot as plt"
   ]
  },
  {
   "cell_type": "code",
   "execution_count": 2,
   "id": "d528e39b-34a3-46e8-a8bf-afc92065dc3d",
   "metadata": {
    "tags": []
   },
   "outputs": [
    {
     "name": "stderr",
     "output_type": "stream",
     "text": [
      "C:\\Users\\User\\AppData\\Local\\Temp\\ipykernel_14916\\3392862284.py:2: DtypeWarning: Columns (26,52,53) have mixed types. Specify dtype option on import or set low_memory=False.\n",
      "  compiled_spreadsheet = pd.read_csv(spreadsheet_name)\n"
     ]
    },
    {
     "data": {
      "text/html": [
       "<div>\n",
       "<style scoped>\n",
       "    .dataframe tbody tr th:only-of-type {\n",
       "        vertical-align: middle;\n",
       "    }\n",
       "\n",
       "    .dataframe tbody tr th {\n",
       "        vertical-align: top;\n",
       "    }\n",
       "\n",
       "    .dataframe thead th {\n",
       "        text-align: right;\n",
       "    }\n",
       "</style>\n",
       "<table border=\"1\" class=\"dataframe\">\n",
       "  <thead>\n",
       "    <tr style=\"text-align: right;\">\n",
       "      <th></th>\n",
       "      <th>OBJECTID</th>\n",
       "      <th>COMPETE4LA ID</th>\n",
       "      <th>TIER</th>\n",
       "      <th>COMPANY NAME</th>\n",
       "      <th>BUSINESS ADDRESS</th>\n",
       "      <th>BUSINESS CITY</th>\n",
       "      <th>BUSINESS STATE</th>\n",
       "      <th>BUSINESS ZIP CODE</th>\n",
       "      <th>BUSINESS ZIP4</th>\n",
       "      <th>PHONE #</th>\n",
       "      <th>...</th>\n",
       "      <th>LONGITUDE</th>\n",
       "      <th>GEO MATCH</th>\n",
       "      <th>TRANSACTION DATE YYYYMM</th>\n",
       "      <th>CALL STATUS</th>\n",
       "      <th>IGID</th>\n",
       "      <th>FIELD62</th>\n",
       "      <th>CONTACT FULL NAME</th>\n",
       "      <th>OBJECTID_1</th>\n",
       "      <th>Join_Count</th>\n",
       "      <th>TARGET_FID</th>\n",
       "    </tr>\n",
       "  </thead>\n",
       "  <tbody>\n",
       "    <tr>\n",
       "      <th>0</th>\n",
       "      <td>1</td>\n",
       "      <td>NaN</td>\n",
       "      <td>2.0</td>\n",
       "      <td>LUCAS AUTO</td>\n",
       "      <td>14155 OXNARD ST</td>\n",
       "      <td>VAN NUYS</td>\n",
       "      <td>CA</td>\n",
       "      <td>91401</td>\n",
       "      <td>3607.0</td>\n",
       "      <td>8.187824e+09</td>\n",
       "      <td>...</td>\n",
       "      <td>NaN</td>\n",
       "      <td>NaN</td>\n",
       "      <td>NaN</td>\n",
       "      <td>NaN</td>\n",
       "      <td>NaN</td>\n",
       "      <td>NaN</td>\n",
       "      <td>NaN</td>\n",
       "      <td>NaN</td>\n",
       "      <td>NaN</td>\n",
       "      <td>NaN</td>\n",
       "    </tr>\n",
       "    <tr>\n",
       "      <th>1</th>\n",
       "      <td>2</td>\n",
       "      <td>NaN</td>\n",
       "      <td>4.0</td>\n",
       "      <td>GENERAL NUCLEONICS INC</td>\n",
       "      <td>2807 METROPOLITAN PL</td>\n",
       "      <td>POMONA</td>\n",
       "      <td>CA</td>\n",
       "      <td>91767</td>\n",
       "      <td>1853.0</td>\n",
       "      <td>9.095935e+09</td>\n",
       "      <td>...</td>\n",
       "      <td>NaN</td>\n",
       "      <td>NaN</td>\n",
       "      <td>NaN</td>\n",
       "      <td>NaN</td>\n",
       "      <td>NaN</td>\n",
       "      <td>NaN</td>\n",
       "      <td>NaN</td>\n",
       "      <td>NaN</td>\n",
       "      <td>NaN</td>\n",
       "      <td>NaN</td>\n",
       "    </tr>\n",
       "    <tr>\n",
       "      <th>2</th>\n",
       "      <td>3</td>\n",
       "      <td>NaN</td>\n",
       "      <td>4.0</td>\n",
       "      <td>WESTCHESTER HOMETOWN NEWS</td>\n",
       "      <td>6605 W 80TH ST</td>\n",
       "      <td>LOS ANGELES</td>\n",
       "      <td>CA</td>\n",
       "      <td>90045</td>\n",
       "      <td>1166.0</td>\n",
       "      <td>3.106411e+09</td>\n",
       "      <td>...</td>\n",
       "      <td>NaN</td>\n",
       "      <td>NaN</td>\n",
       "      <td>NaN</td>\n",
       "      <td>NaN</td>\n",
       "      <td>NaN</td>\n",
       "      <td>NaN</td>\n",
       "      <td>NaN</td>\n",
       "      <td>NaN</td>\n",
       "      <td>NaN</td>\n",
       "      <td>NaN</td>\n",
       "    </tr>\n",
       "    <tr>\n",
       "      <th>3</th>\n",
       "      <td>4</td>\n",
       "      <td>NaN</td>\n",
       "      <td>4.0</td>\n",
       "      <td>MEL O DEE ICE CREAM CO</td>\n",
       "      <td>12305 INDUSTRIAL AVE</td>\n",
       "      <td>SOUTH GATE</td>\n",
       "      <td>CA</td>\n",
       "      <td>90280</td>\n",
       "      <td>8219.0</td>\n",
       "      <td>5.625311e+09</td>\n",
       "      <td>...</td>\n",
       "      <td>NaN</td>\n",
       "      <td>NaN</td>\n",
       "      <td>NaN</td>\n",
       "      <td>NaN</td>\n",
       "      <td>NaN</td>\n",
       "      <td>NaN</td>\n",
       "      <td>NaN</td>\n",
       "      <td>NaN</td>\n",
       "      <td>NaN</td>\n",
       "      <td>NaN</td>\n",
       "    </tr>\n",
       "    <tr>\n",
       "      <th>4</th>\n",
       "      <td>5</td>\n",
       "      <td>NaN</td>\n",
       "      <td>4.0</td>\n",
       "      <td>RIVERA</td>\n",
       "      <td>1280 PRODUCE ROW</td>\n",
       "      <td>LOS ANGELES</td>\n",
       "      <td>CA</td>\n",
       "      <td>90021</td>\n",
       "      <td>1836.0</td>\n",
       "      <td>2.136291e+09</td>\n",
       "      <td>...</td>\n",
       "      <td>NaN</td>\n",
       "      <td>NaN</td>\n",
       "      <td>NaN</td>\n",
       "      <td>NaN</td>\n",
       "      <td>NaN</td>\n",
       "      <td>NaN</td>\n",
       "      <td>NaN</td>\n",
       "      <td>NaN</td>\n",
       "      <td>NaN</td>\n",
       "      <td>NaN</td>\n",
       "    </tr>\n",
       "  </tbody>\n",
       "</table>\n",
       "<p>5 rows × 95 columns</p>\n",
       "</div>"
      ],
      "text/plain": [
       "   OBJECTID  COMPETE4LA ID  TIER               COMPANY NAME  \\\n",
       "0         1            NaN   2.0                 LUCAS AUTO   \n",
       "1         2            NaN   4.0     GENERAL NUCLEONICS INC   \n",
       "2         3            NaN   4.0  WESTCHESTER HOMETOWN NEWS   \n",
       "3         4            NaN   4.0     MEL O DEE ICE CREAM CO   \n",
       "4         5            NaN   4.0                     RIVERA   \n",
       "\n",
       "       BUSINESS ADDRESS BUSINESS CITY BUSINESS STATE  BUSINESS ZIP CODE  \\\n",
       "0       14155 OXNARD ST      VAN NUYS             CA              91401   \n",
       "1  2807 METROPOLITAN PL        POMONA             CA              91767   \n",
       "2        6605 W 80TH ST   LOS ANGELES             CA              90045   \n",
       "3  12305 INDUSTRIAL AVE    SOUTH GATE             CA              90280   \n",
       "4      1280 PRODUCE ROW   LOS ANGELES             CA              90021   \n",
       "\n",
       "   BUSINESS ZIP4       PHONE #  ...  LONGITUDE  GEO MATCH  \\\n",
       "0         3607.0  8.187824e+09  ...        NaN        NaN   \n",
       "1         1853.0  9.095935e+09  ...        NaN        NaN   \n",
       "2         1166.0  3.106411e+09  ...        NaN        NaN   \n",
       "3         8219.0  5.625311e+09  ...        NaN        NaN   \n",
       "4         1836.0  2.136291e+09  ...        NaN        NaN   \n",
       "\n",
       "  TRANSACTION DATE YYYYMM  CALL STATUS IGID FIELD62 CONTACT FULL NAME  \\\n",
       "0                     NaN          NaN  NaN     NaN               NaN   \n",
       "1                     NaN          NaN  NaN     NaN               NaN   \n",
       "2                     NaN          NaN  NaN     NaN               NaN   \n",
       "3                     NaN          NaN  NaN     NaN               NaN   \n",
       "4                     NaN          NaN  NaN     NaN               NaN   \n",
       "\n",
       "  OBJECTID_1 Join_Count TARGET_FID  \n",
       "0        NaN        NaN        NaN  \n",
       "1        NaN        NaN        NaN  \n",
       "2        NaN        NaN        NaN  \n",
       "3        NaN        NaN        NaN  \n",
       "4        NaN        NaN        NaN  \n",
       "\n",
       "[5 rows x 95 columns]"
      ]
     },
     "execution_count": 2,
     "metadata": {},
     "output_type": "execute_result"
    }
   ],
   "source": [
    "spreadsheet_name = \"C:/Users/User/Downloads/Excel Spreadsheets/USC Center for Economic Development/Compete4LA_Compiled_Spreadsheet_With_Surveys.csv\"\n",
    "compiled_spreadsheet = pd.read_csv(spreadsheet_name)\n",
    "compiled_spreadsheet.head()"
   ]
  },
  {
   "cell_type": "markdown",
   "id": "e4bfc1b6-3b7f-45a3-a325-9c31f85690f9",
   "metadata": {},
   "source": [
    " "
   ]
  },
  {
   "cell_type": "markdown",
   "id": "0e38522c-0d6a-453b-a2da-b9e8b395c909",
   "metadata": {},
   "source": [
    "## Store the memory addresses for each SBA as a variable."
   ]
  },
  {
   "cell_type": "markdown",
   "id": "8c028546-5879-4dda-b327-d315019b9477",
   "metadata": {},
   "source": [
    " "
   ]
  },
  {
   "cell_type": "code",
   "execution_count": 3,
   "id": "9363e8f4-b094-4bf6-98d4-c77285e6af65",
   "metadata": {
    "tags": []
   },
   "outputs": [],
   "source": [
    "SBA_MO_SelfCertified = \"C:/Users/User/Downloads/Excel Spreadsheets/USC Center for Economic Development/SBA Spreadsheets/SBA Minority Owned (Self Certified).xls.csv\"\n",
    "SBA_NA_Certified = \"C:/Users/User/Downloads/Excel Spreadsheets/USC Center for Economic Development/SBA Spreadsheets/SBA Native American Certified.xls.csv\"\n",
    "SBA_SDB_SelfCertified = \"C:/Users/User/Downloads/Excel Spreadsheets/USC Center for Economic Development/SBA Spreadsheets/SBA Self-Certified Small Disadvantaged Business.xls.csv\" \n",
    "SBA_V_Certified = \"C:/Users/User/Downloads/Excel Spreadsheets/USC Center for Economic Development/SBA Spreadsheets/SBA Veteran Certified.xls.csv\"\n",
    "SBA_WOB_SelfCertified = \"C:/Users/User/Downloads/Excel Spreadsheets/USC Center for Economic Development/SBA Spreadsheets/SBA Women Owned Businesses (Self Certified).xls.csv\"\n",
    "SBA_WOB_Certified = \"C:/Users/User/Downloads/Excel Spreadsheets/USC Center for Economic Development/SBA Spreadsheets/SBA_Women-Certified.xls.csv\"\n",
    "\n",
    "certified_spreadsheets = [SBA_NA_Certified, SBA_V_Certified, SBA_WOB_Certified]\n",
    "self_certified_spreadsheets = [SBA_MO_SelfCertified, SBA_SDB_SelfCertified, SBA_WOB_SelfCertified]"
   ]
  },
  {
   "cell_type": "markdown",
   "id": "ddfec4a2-115d-4d82-9900-6b532120cf87",
   "metadata": {},
   "source": [
    " "
   ]
  },
  {
   "cell_type": "markdown",
   "id": "b034583d-1c1c-4f58-8eed-4f04d01b8877",
   "metadata": {},
   "source": [
    "## Check to see that all of the spreadsheets are read correctly."
   ]
  },
  {
   "cell_type": "markdown",
   "id": "c476ce46-f77e-4bb6-b1f6-746e1ffa2d0b",
   "metadata": {},
   "source": [
    " "
   ]
  },
  {
   "cell_type": "code",
   "execution_count": 4,
   "id": "9fd7acdb-c288-4dc9-9e9d-75a5c8b853cd",
   "metadata": {
    "tags": []
   },
   "outputs": [
    {
     "data": {
      "text/html": [
       "<div>\n",
       "<style scoped>\n",
       "    .dataframe tbody tr th:only-of-type {\n",
       "        vertical-align: middle;\n",
       "    }\n",
       "\n",
       "    .dataframe tbody tr th {\n",
       "        vertical-align: top;\n",
       "    }\n",
       "\n",
       "    .dataframe thead th {\n",
       "        text-align: right;\n",
       "    }\n",
       "</style>\n",
       "<table border=\"1\" class=\"dataframe\">\n",
       "  <thead>\n",
       "    <tr style=\"text-align: right;\">\n",
       "      <th></th>\n",
       "      <th>DSBS is experiencing intermittent issues in displaying the most up-to-date certifications for some registrants. If a firm claiming certification does not appear as certified in DSBS, please contact answerdesk@sba.gov for assistance.</th>\n",
       "      <th>Unnamed: 1</th>\n",
       "      <th>Unnamed: 2</th>\n",
       "      <th>Unnamed: 3</th>\n",
       "      <th>Unnamed: 4</th>\n",
       "      <th>Unnamed: 5</th>\n",
       "      <th>Unnamed: 6</th>\n",
       "      <th>Unnamed: 7</th>\n",
       "      <th>Unnamed: 8</th>\n",
       "      <th>Unnamed: 9</th>\n",
       "      <th>Unnamed: 10</th>\n",
       "      <th>Unnamed: 11</th>\n",
       "    </tr>\n",
       "  </thead>\n",
       "  <tbody>\n",
       "    <tr>\n",
       "      <th>0</th>\n",
       "      <td>NaN</td>\n",
       "      <td>NaN</td>\n",
       "      <td>NaN</td>\n",
       "      <td>NaN</td>\n",
       "      <td>NaN</td>\n",
       "      <td>NaN</td>\n",
       "      <td>NaN</td>\n",
       "      <td>NaN</td>\n",
       "      <td>NaN</td>\n",
       "      <td>NaN</td>\n",
       "      <td>NaN</td>\n",
       "      <td>NaN</td>\n",
       "    </tr>\n",
       "    <tr>\n",
       "      <th>1</th>\n",
       "      <td>#</td>\n",
       "      <td>Name and Trade Name of Firm</td>\n",
       "      <td>Contact</td>\n",
       "      <td>Address and City, State Zip</td>\n",
       "      <td>Capabilities Narrative</td>\n",
       "      <td>Avg Ann Gross Rev</td>\n",
       "      <td>Avg Num Employees</td>\n",
       "      <td>Congr. Dist.</td>\n",
       "      <td>E-mail Address</td>\n",
       "      <td>Phone Number</td>\n",
       "      <td>Business Type (Service, Construction, etc)</td>\n",
       "      <td>NAICS, All (for which firm is small)</td>\n",
       "    </tr>\n",
       "    <tr>\n",
       "      <th>2</th>\n",
       "      <td>1</td>\n",
       "      <td>THE ATLAS GROUP, LLC</td>\n",
       "      <td>ADRIENNE DINKELACKER</td>\n",
       "      <td>210 1/2 N LOUISE ST</td>\n",
       "      <td>NaN</td>\n",
       "      <td>$220,000.00</td>\n",
       "      <td>2</td>\n",
       "      <td>30</td>\n",
       "      <td>adrienne@theatlasgroup.co</td>\n",
       "      <td>267-240-3176</td>\n",
       "      <td>NaN</td>\n",
       "      <td>541330, 541330, 541330, 541330, 541511, 541512...</td>\n",
       "    </tr>\n",
       "    <tr>\n",
       "      <th>3</th>\n",
       "      <td>NaN</td>\n",
       "      <td>NaN</td>\n",
       "      <td>NaN</td>\n",
       "      <td>APT A</td>\n",
       "      <td>NaN</td>\n",
       "      <td>NaN</td>\n",
       "      <td>NaN</td>\n",
       "      <td>NaN</td>\n",
       "      <td>NaN</td>\n",
       "      <td>NaN</td>\n",
       "      <td>NaN</td>\n",
       "      <td>NaN</td>\n",
       "    </tr>\n",
       "    <tr>\n",
       "      <th>4</th>\n",
       "      <td>NaN</td>\n",
       "      <td>NaN</td>\n",
       "      <td>NaN</td>\n",
       "      <td>GLENDALE, CA 91206-4766</td>\n",
       "      <td>NaN</td>\n",
       "      <td>NaN</td>\n",
       "      <td>NaN</td>\n",
       "      <td>NaN</td>\n",
       "      <td>NaN</td>\n",
       "      <td>NaN</td>\n",
       "      <td>NaN</td>\n",
       "      <td>NaN</td>\n",
       "    </tr>\n",
       "  </tbody>\n",
       "</table>\n",
       "</div>"
      ],
      "text/plain": [
       "  DSBS is experiencing intermittent issues in displaying the most up-to-date certifications for some registrants. If a firm claiming certification does not appear as certified in DSBS, please contact answerdesk@sba.gov for assistance.  \\\n",
       "0                                                NaN                                                                                                                                                                                         \n",
       "1                                                  #                                                                                                                                                                                         \n",
       "2                                                  1                                                                                                                                                                                         \n",
       "3                                                NaN                                                                                                                                                                                         \n",
       "4                                                NaN                                                                                                                                                                                         \n",
       "\n",
       "                    Unnamed: 1            Unnamed: 2  \\\n",
       "0                          NaN                   NaN   \n",
       "1  Name and Trade Name of Firm               Contact   \n",
       "2         THE ATLAS GROUP, LLC  ADRIENNE DINKELACKER   \n",
       "3                          NaN                   NaN   \n",
       "4                          NaN                   NaN   \n",
       "\n",
       "                    Unnamed: 3              Unnamed: 4         Unnamed: 5  \\\n",
       "0                          NaN                     NaN                NaN   \n",
       "1  Address and City, State Zip  Capabilities Narrative  Avg Ann Gross Rev   \n",
       "2          210 1/2 N LOUISE ST                     NaN       $220,000.00    \n",
       "3                        APT A                     NaN                NaN   \n",
       "4      GLENDALE, CA 91206-4766                     NaN                NaN   \n",
       "\n",
       "          Unnamed: 6    Unnamed: 7                 Unnamed: 8    Unnamed: 9  \\\n",
       "0                NaN           NaN                        NaN           NaN   \n",
       "1  Avg Num Employees  Congr. Dist.             E-mail Address  Phone Number   \n",
       "2                  2            30  adrienne@theatlasgroup.co  267-240-3176   \n",
       "3                NaN           NaN                        NaN           NaN   \n",
       "4                NaN           NaN                        NaN           NaN   \n",
       "\n",
       "                                  Unnamed: 10  \\\n",
       "0                                         NaN   \n",
       "1  Business Type (Service, Construction, etc)   \n",
       "2                                         NaN   \n",
       "3                                         NaN   \n",
       "4                                         NaN   \n",
       "\n",
       "                                         Unnamed: 11  \n",
       "0                                                NaN  \n",
       "1               NAICS, All (for which firm is small)  \n",
       "2  541330, 541330, 541330, 541330, 541511, 541512...  \n",
       "3                                                NaN  \n",
       "4                                                NaN  "
      ]
     },
     "execution_count": 4,
     "metadata": {},
     "output_type": "execute_result"
    }
   ],
   "source": [
    "for spr in certified_spreadsheets:\n",
    "    df = pd.read_csv(spr)\n",
    "    \n",
    "for spr in self_certified_spreadsheets:\n",
    "    df = pd.read_csv(spr)\n",
    "\n",
    "df.head()"
   ]
  },
  {
   "cell_type": "markdown",
   "id": "f907d08f-4d56-408e-9df3-ccbf1b324231",
   "metadata": {},
   "source": [
    " "
   ]
  },
  {
   "cell_type": "markdown",
   "id": "a447db57-9765-4b1f-b643-0072a03ee05a",
   "metadata": {},
   "source": [
    "## Compare all of the spreadsheets and create a list of businesses that match for each category"
   ]
  },
  {
   "cell_type": "markdown",
   "id": "0424e8b9-dd53-45f1-b26f-d359e42284fb",
   "metadata": {},
   "source": [
    " "
   ]
  },
  {
   "cell_type": "code",
   "execution_count": 5,
   "id": "d0b3ca79-0efe-47a1-8e64-358679d377d9",
   "metadata": {
    "tags": []
   },
   "outputs": [],
   "source": [
    "SBA_MO_SC_List = []\n",
    "SBA_NA_C_List = []\n",
    "SBA_SDB_SC_List = []\n",
    "SBA_V_C_List = []\n",
    "SBA_WOB_SC_List = []\n",
    "SBA_WOB_C_List = []\n",
    "\n",
    "list_of_comp = [SBA_NA_C_List, SBA_V_C_List, SBA_WOB_C_List, SBA_MO_SC_List, SBA_SDB_SC_List, SBA_WOB_SC_List]"
   ]
  },
  {
   "cell_type": "code",
   "execution_count": 6,
   "id": "51e3a586-245d-4543-84ad-82f2064e9c03",
   "metadata": {
    "tags": []
   },
   "outputs": [],
   "source": [
    "# Index counter to check what list we are adding to.\n",
    "index = 0\n",
    "    \n",
    "    \n",
    "    \n",
    "    \n",
    "# First loop through all of the certified lists.\n",
    "for cert in certified_spreadsheets:\n",
    "    df = pd.read_csv(cert)\n",
    "        \n",
    "    # Loop through the compiled spreadsheet and compare the business name to see if they match.\n",
    "    # Record results in comparison list.\n",
    "    for business_name in compiled_spreadsheet[\"COMPANY NAME\"]:\n",
    "        for SBA in df[\"Unnamed: 1\"]:\n",
    "                \n",
    "            # Record in list if business names match.\n",
    "            if business_name == SBA:\n",
    "                list_of_comp[index].append(SBA)\n",
    "        \n",
    "    # Increment the index to go onto the next spreadsheet.\n",
    "    index += 1\n",
    "    \n",
    "    \n",
    "    \n",
    "     \n",
    "# loop through all of the self certified lists.\n",
    "for self_cert in self_certified_spreadsheets:\n",
    "    df = pd.read_csv(self_cert)\n",
    "        \n",
    "    # Loop through the compiled spreadsheet and compare the business name to see if they match.\n",
    "    # Record results in comparison list.\n",
    "    for business_name in compiled_spreadsheet[\"COMPANY NAME\"]:\n",
    "        for SBA in df[\"Unnamed: 1\"]:\n",
    "                \n",
    "            # Record in list if business names match.\n",
    "            if business_name == SBA:\n",
    "                list_of_comp[index].append(SBA)\n",
    "        \n",
    "    # Increment the index to go onto the next spreadsheet.\n",
    "    index += 1"
   ]
  },
  {
   "cell_type": "code",
   "execution_count": 7,
   "id": "47ff5dd5-c1ec-40ce-8258-1d3868a0de29",
   "metadata": {
    "tags": []
   },
   "outputs": [
    {
     "data": {
      "text/plain": [
       "['SIGN IMAGING',\n",
       " 'LG & M ELECTRIC INC',\n",
       " 'AMERICAN ARTISTS CORP',\n",
       " 'W M MACHINE CO',\n",
       " 'VULCAN METAL GROUP LLC',\n",
       " 'SIGN IMAGING',\n",
       " 'SIGN IMAGING',\n",
       " 'HARDING CONSULTING',\n",
       " 'WEI INDUSTRIES',\n",
       " 'EBS LOGISTICS LLC',\n",
       " 'HODGKISS CONSULTING LLC',\n",
       " 'IRG MEDICAL INC',\n",
       " 'SOLID SEARCH MARKETING INC',\n",
       " 'MECHANICAL DRAGONS LLC']"
      ]
     },
     "execution_count": 7,
     "metadata": {},
     "output_type": "execute_result"
    }
   ],
   "source": [
    "# Check to see if the certified lists were created correctly\n",
    "SBA_V_C_List"
   ]
  },
  {
   "cell_type": "code",
   "execution_count": 8,
   "id": "30b8b695-ee7b-4706-b255-462215743629",
   "metadata": {
    "tags": []
   },
   "outputs": [
    {
     "data": {
      "text/plain": [
       "['ORRAVAN MECHANICAL INC',\n",
       " '3S GLOBAL BUSINESS SOLUTIONS',\n",
       " 'LG & M ELECTRIC INC',\n",
       " 'BELLA PITA',\n",
       " 'NOYON INC',\n",
       " 'M & B ASSEMBLY CORP',\n",
       " 'UNIK INC',\n",
       " 'LUMO SUPPLY DECK',\n",
       " 'DAVID NG PHOTOGRAPHY',\n",
       " 'HOUSE OF TROPHIES & AWARDS',\n",
       " 'KT INDUSTRIES INC',\n",
       " 'TIM DENTAL PROJECT',\n",
       " 'AERO MECHANISM PRECISION INC',\n",
       " 'RIDELINKS INC',\n",
       " 'CROWN INTERNATIONAL TRAVEL INC',\n",
       " 'DELPHIN COMPUTER SUPPLY',\n",
       " 'RABBIT AIR',\n",
       " 'SUPREME SUPPLY CO INC',\n",
       " 'GFX MARKETING CORP',\n",
       " 'SURGE TECHNOLOGY GROUP LLC',\n",
       " 'FEDERAL ONE SUPPLIES LLC',\n",
       " 'REICH INDUSTRIES INC',\n",
       " 'YUNG ARCHITECTS LLP',\n",
       " 'GENISA IRON INC',\n",
       " 'MARKETING PROMOTION IMAGE INC',\n",
       " 'INDUSTRIES IMAGING',\n",
       " 'SCALE MODEL CO',\n",
       " 'LA FILM LOCATIONS',\n",
       " 'INTELLIGENT DATA',\n",
       " 'WEST PAC CONCRETE INC',\n",
       " 'PLATINUM SAMANDY VENTURES',\n",
       " 'STAR RESOURCES CORP',\n",
       " 'MORAN CONSULTING CORP',\n",
       " 'CE SUPPLY LLC',\n",
       " 'JOSEPH MANAGEMENT INC',\n",
       " 'ONUMA INC',\n",
       " 'HEALTH CARE CONSULTANTS INC',\n",
       " 'MAESTRO GAMES SPC',\n",
       " 'TRIO ENGINEERING CO',\n",
       " 'FAVOUR CONSULTING GROUP LLC',\n",
       " 'TRUE VISION DISPLAYS INC',\n",
       " 'ASA SALES INC',\n",
       " 'EURI LIGHTING',\n",
       " 'ADVANCED SIGN & BANNER',\n",
       " 'BESTEK MACHINE CO',\n",
       " 'KNIGHTSBRIDGE INDUSTRIES INC',\n",
       " 'MARKETING SI INC',\n",
       " 'NATIONWIDE LITHO INC',\n",
       " 'KNIGHTFOX LOGISTICS LLC',\n",
       " 'GEMTEK TECHNOLOGY INC',\n",
       " 'FUSE AVIATION LLC',\n",
       " 'LITTLE LIBROS LLC',\n",
       " 'TECHMEDICS',\n",
       " 'WOLFCOM ENTERPRISES',\n",
       " 'KNIGHTSBRIDGE INDUSTRIES INC',\n",
       " 'GEM SUPPLIES LLC',\n",
       " 'AVR ELECTRIC INC',\n",
       " 'SHRED SOURCE',\n",
       " 'SHRED SOURCE',\n",
       " 'JMT INC',\n",
       " 'W C INDUSTRIES',\n",
       " 'WEI INDUSTRIES',\n",
       " 'SHELBY GRACE MANAGEMENT CORP',\n",
       " 'APEX FURNITURE LLC',\n",
       " 'AXIOM DESIGNS & PRINTING',\n",
       " 'DUST STOPPERS',\n",
       " 'LINEN N CHAIR COVERS',\n",
       " 'EBS LOGISTICS LLC',\n",
       " 'ANGEL CITY ADVISORS LLC',\n",
       " 'IDEAL PRINTING CO',\n",
       " 'AXIS ARTIST MANAGEMENT INC',\n",
       " 'IDEA ENHANCEMENT GROUP',\n",
       " 'CONTINUUM ENGINEERING INC',\n",
       " 'BRAHMBHATT ARCHITECTS INC',\n",
       " 'AMS CONSULTANT',\n",
       " 'GLOBAL PUBLIC ADVISORS',\n",
       " 'OCAMPO LOGISTICS LLC',\n",
       " 'STEM CONSULTANTS INC',\n",
       " 'AVERY GROUP INC',\n",
       " 'VISUAL TERRAIN',\n",
       " 'EUFRA MARKETING CO',\n",
       " 'BRIGHT SKY INDUSTRIES',\n",
       " 'SCV ELECTRIC INC',\n",
       " 'SOTERIA CO LLC',\n",
       " 'TALK SHOPPE',\n",
       " 'OFFICE TEC SUPPLIES',\n",
       " 'SOLID SEARCH MARKETING INC',\n",
       " 'TWELVE AM FASHIONS CO',\n",
       " 'TWELVE AM FASHIONS CO',\n",
       " '4HUNNID LOGISTICS LLC',\n",
       " 'GUARDIAN',\n",
       " 'GUARDIAN',\n",
       " 'GUARDIAN',\n",
       " 'GUARDIAN',\n",
       " 'GENTLEGIANT FITNESS LLC']"
      ]
     },
     "execution_count": 8,
     "metadata": {},
     "output_type": "execute_result"
    }
   ],
   "source": [
    "# Check to see if the self certified lists were created correctly\n",
    "SBA_MO_SC_List"
   ]
  },
  {
   "cell_type": "markdown",
   "id": "e245c54b-8fc2-4d49-8ac0-4ea288f4050b",
   "metadata": {},
   "source": [
    " "
   ]
  },
  {
   "cell_type": "markdown",
   "id": "d2aa974e-516e-49cb-971f-169ced7cb6d0",
   "metadata": {},
   "source": [
    "## Record all of the new calculated business classifications in the compiled spreadsheet."
   ]
  },
  {
   "cell_type": "markdown",
   "id": "35e7c6a0-4674-4aa1-9021-75f081bbfe84",
   "metadata": {},
   "source": [
    " "
   ]
  },
  {
   "cell_type": "code",
   "execution_count": 9,
   "id": "8e7a6270-e85d-4760-9724-1a4b5e68a559",
   "metadata": {
    "tags": []
   },
   "outputs": [
    {
     "name": "stderr",
     "output_type": "stream",
     "text": [
      "C:\\Users\\User\\AppData\\Local\\Temp\\ipykernel_14916\\3802534976.py:12: SettingWithCopyWarning: \n",
      "A value is trying to be set on a copy of a slice from a DataFrame\n",
      "\n",
      "See the caveats in the documentation: https://pandas.pydata.org/pandas-docs/stable/user_guide/indexing.html#returning-a-view-versus-a-copy\n",
      "  compiled_spreadsheet[\"SBA-WOSB\"][index] = \"self\"\n"
     ]
    },
    {
     "data": {
      "text/plain": [
       "0    no\n",
       "1    no\n",
       "2    no\n",
       "3    no\n",
       "4    no\n",
       "Name: SBA-WOSB, dtype: object"
      ]
     },
     "execution_count": 9,
     "metadata": {},
     "output_type": "execute_result"
    }
   ],
   "source": [
    "# The woman owned small business column alread exists in our database, we defaul this colum to no.\n",
    "compiled_spreadsheet[\"SBA-WOSB\"] = \"no\"\n",
    "\n",
    "# Add classifications for woman owned businesses into the compiled spreadsheet.\n",
    "for business_name in SBA_WOB_SC_List:\n",
    "    \n",
    "    # Loop through the dataframe and add self in the \"SBA-WOSB\" column.\n",
    "    for index in compiled_spreadsheet.index:\n",
    "        \n",
    "        # Compares names from list and compiled spreadsheet.\n",
    "        if business_name == compiled_spreadsheet[\"COMPANY NAME\"][index]:\n",
    "            compiled_spreadsheet[\"SBA-WOSB\"][index] = \"self\"\n",
    "\n",
    "compiled_spreadsheet[\"SBA-WOSB\"].head()"
   ]
  },
  {
   "cell_type": "code",
   "execution_count": 10,
   "id": "0a82980b-f82e-49d6-8722-2909ed2685b8",
   "metadata": {
    "tags": []
   },
   "outputs": [
    {
     "name": "stderr",
     "output_type": "stream",
     "text": [
      "C:\\Users\\User\\AppData\\Local\\Temp\\ipykernel_14916\\1086161508.py:9: SettingWithCopyWarning: \n",
      "A value is trying to be set on a copy of a slice from a DataFrame\n",
      "\n",
      "See the caveats in the documentation: https://pandas.pydata.org/pandas-docs/stable/user_guide/indexing.html#returning-a-view-versus-a-copy\n",
      "  compiled_spreadsheet[\"SBA-WOSB\"][index] = \"yes\"\n"
     ]
    },
    {
     "data": {
      "text/plain": [
       "0    no\n",
       "1    no\n",
       "2    no\n",
       "3    no\n",
       "4    no\n",
       "Name: SBA-WOSB, dtype: object"
      ]
     },
     "execution_count": 10,
     "metadata": {},
     "output_type": "execute_result"
    }
   ],
   "source": [
    "# This is working on the same spreadsheet as above, but now we are checking those business that are certified, but not self certified.\n",
    "for business_name in SBA_WOB_C_List:\n",
    "    \n",
    "    # Loop through the dataframe and add self in the \"SBA-WOSB\" column.\n",
    "    for index in compiled_spreadsheet.index:\n",
    "        \n",
    "        # Compares names from list and compiled spreadsheet.\n",
    "        if business_name == compiled_spreadsheet[\"COMPANY NAME\"][index]:\n",
    "            compiled_spreadsheet[\"SBA-WOSB\"][index] = \"yes\"\n",
    "\n",
    "compiled_spreadsheet[\"SBA-WOSB\"].head()"
   ]
  },
  {
   "cell_type": "code",
   "execution_count": 11,
   "id": "66c7f9a5-1207-41d8-ae58-737bb1542de7",
   "metadata": {
    "tags": []
   },
   "outputs": [
    {
     "name": "stderr",
     "output_type": "stream",
     "text": [
      "C:\\Users\\User\\AppData\\Local\\Temp\\ipykernel_14916\\51440622.py:12: SettingWithCopyWarning: \n",
      "A value is trying to be set on a copy of a slice from a DataFrame\n",
      "\n",
      "See the caveats in the documentation: https://pandas.pydata.org/pandas-docs/stable/user_guide/indexing.html#returning-a-view-versus-a-copy\n",
      "  compiled_spreadsheet[\"SBA-SDB\"][index] = \"self\"\n"
     ]
    },
    {
     "data": {
      "text/plain": [
       "0    no\n",
       "1    no\n",
       "2    no\n",
       "3    no\n",
       "4    no\n",
       "Name: SBA-SDB, dtype: object"
      ]
     },
     "execution_count": 11,
     "metadata": {},
     "output_type": "execute_result"
    }
   ],
   "source": [
    "# The woman owned small business column alread exists in our database, we defaul this colum to no.\n",
    "compiled_spreadsheet[\"SBA-SDB\"] = \"no\"\n",
    "\n",
    "# Add classifications for small disadvantaged businesses into the compiled spreadsheet.\n",
    "for business_name in SBA_SDB_SC_List:\n",
    "    \n",
    "    # Loop through the dataframe and add self in the \"SBA-WOSB\" column.\n",
    "    for index in compiled_spreadsheet.index:\n",
    "        \n",
    "        # Compares names from list and compiled spreadsheet.\n",
    "        if business_name == compiled_spreadsheet[\"COMPANY NAME\"][index]:\n",
    "            compiled_spreadsheet[\"SBA-SDB\"][index] = \"self\"\n",
    "\n",
    "compiled_spreadsheet[\"SBA-SDB\"].head()"
   ]
  },
  {
   "cell_type": "code",
   "execution_count": 12,
   "id": "7d9411fa-4ba5-4f14-a35a-f5f3e148ca5c",
   "metadata": {
    "tags": []
   },
   "outputs": [
    {
     "name": "stderr",
     "output_type": "stream",
     "text": [
      "C:\\Users\\User\\AppData\\Local\\Temp\\ipykernel_14916\\3982019631.py:12: SettingWithCopyWarning: \n",
      "A value is trying to be set on a copy of a slice from a DataFrame\n",
      "\n",
      "See the caveats in the documentation: https://pandas.pydata.org/pandas-docs/stable/user_guide/indexing.html#returning-a-view-versus-a-copy\n",
      "  compiled_spreadsheet[\"SBA-MO\"][index] = \"self\"\n"
     ]
    },
    {
     "data": {
      "text/plain": [
       "0    no\n",
       "1    no\n",
       "2    no\n",
       "3    no\n",
       "4    no\n",
       "Name: SBA-MO, dtype: object"
      ]
     },
     "execution_count": 12,
     "metadata": {},
     "output_type": "execute_result"
    }
   ],
   "source": [
    "# Create a new column in the compiled_spreadsheets datafrane.\n",
    "compiled_spreadsheet[\"SBA-MO\"] = \"no\"\n",
    "\n",
    "# Add classifications for miinority owned businesses into the compiled spreadsheet.\n",
    "for business_name in SBA_MO_SC_List:\n",
    "    \n",
    "    # Loop through the dataframe and add self in the \"SBA-WOSB\" column.\n",
    "    for index in compiled_spreadsheet.index:\n",
    "        \n",
    "        # Compares names from list and compiled spreadsheet.\n",
    "        if business_name == compiled_spreadsheet[\"COMPANY NAME\"][index]:\n",
    "            compiled_spreadsheet[\"SBA-MO\"][index] = \"self\"\n",
    "\n",
    "compiled_spreadsheet[\"SBA-MO\"].head()"
   ]
  },
  {
   "cell_type": "code",
   "execution_count": 13,
   "id": "6280997f-3f28-4185-85f2-e6a14a0e6e92",
   "metadata": {
    "tags": []
   },
   "outputs": [
    {
     "name": "stderr",
     "output_type": "stream",
     "text": [
      "C:\\Users\\User\\AppData\\Local\\Temp\\ipykernel_14916\\1409191063.py:12: SettingWithCopyWarning: \n",
      "A value is trying to be set on a copy of a slice from a DataFrame\n",
      "\n",
      "See the caveats in the documentation: https://pandas.pydata.org/pandas-docs/stable/user_guide/indexing.html#returning-a-view-versus-a-copy\n",
      "  compiled_spreadsheet[\"SBA-VO\"][index] = \"Yes\"\n"
     ]
    },
    {
     "data": {
      "text/plain": [
       "0    no\n",
       "1    no\n",
       "2    no\n",
       "3    no\n",
       "4    no\n",
       "Name: SBA-VO, dtype: object"
      ]
     },
     "execution_count": 13,
     "metadata": {},
     "output_type": "execute_result"
    }
   ],
   "source": [
    "# Create a new column in the compiled_spreadsheets datafrane.\n",
    "compiled_spreadsheet[\"SBA-VO\"] = \"no\"\n",
    "\n",
    "# Add classifications for veteran owned businesses into the compiled spreadsheet.\n",
    "for business_name in SBA_V_C_List:\n",
    "    \n",
    "    # Loop through the dataframe and add self in the \"SBA-WOSB\" column.\n",
    "    for index in compiled_spreadsheet.index:\n",
    "        \n",
    "        # Compares names from list and compiled spreadsheet.\n",
    "        if business_name == compiled_spreadsheet[\"COMPANY NAME\"][index]:\n",
    "            compiled_spreadsheet[\"SBA-VO\"][index] = \"Yes\"\n",
    "\n",
    "compiled_spreadsheet[\"SBA-VO\"].head()"
   ]
  },
  {
   "cell_type": "code",
   "execution_count": 14,
   "id": "419e2474-5e28-40ce-879b-3c829229fd1d",
   "metadata": {
    "tags": []
   },
   "outputs": [
    {
     "data": {
      "text/plain": [
       "0    no\n",
       "1    no\n",
       "2    no\n",
       "3    no\n",
       "4    no\n",
       "Name: SBA-NAO, dtype: object"
      ]
     },
     "execution_count": 14,
     "metadata": {},
     "output_type": "execute_result"
    }
   ],
   "source": [
    "# Create a new column in the compiled_spreadsheets datafrane.\n",
    "compiled_spreadsheet[\"SBA-NAO\"] = \"no\"\n",
    "\n",
    "# Add classifications for small disadvantaged businesses into the compiled spreadsheet.\n",
    "for business_name in SBA_NA_C_List:\n",
    "    \n",
    "    # Loop through the dataframe and add self in the \"SBA-WOSB\" column.\n",
    "    for index in compiled_spreadsheet.index:\n",
    "        \n",
    "        # Compares names from list and compiled spreadsheet.\n",
    "        if business_name == compiled_spreadsheet[\"COMPANY NAME\"][index]:\n",
    "            compiled_spreadsheet[\"SBA-NAO\"][index] = \"Yes\"\n",
    "\n",
    "compiled_spreadsheet[\"SBA-NAO\"].head()"
   ]
  },
  {
   "cell_type": "markdown",
   "id": "b74c0abe-fdaf-44c2-9605-4bc79849c1a0",
   "metadata": {},
   "source": [
    " "
   ]
  },
  {
   "cell_type": "markdown",
   "id": "f11688a4-db80-4018-9702-9847683362c3",
   "metadata": {},
   "source": [
    "## Check to see if the correct spreadsheet was generated and export into new csv file."
   ]
  },
  {
   "cell_type": "markdown",
   "id": "e8b1d9ce-b8c3-4b78-85be-1e98811ee111",
   "metadata": {},
   "source": [
    " "
   ]
  },
  {
   "cell_type": "code",
   "execution_count": 15,
   "id": "a4b4e834-932f-4c28-877c-ecb5d7fd7187",
   "metadata": {
    "tags": []
   },
   "outputs": [
    {
     "data": {
      "text/html": [
       "<div>\n",
       "<style scoped>\n",
       "    .dataframe tbody tr th:only-of-type {\n",
       "        vertical-align: middle;\n",
       "    }\n",
       "\n",
       "    .dataframe tbody tr th {\n",
       "        vertical-align: top;\n",
       "    }\n",
       "\n",
       "    .dataframe thead th {\n",
       "        text-align: right;\n",
       "    }\n",
       "</style>\n",
       "<table border=\"1\" class=\"dataframe\">\n",
       "  <thead>\n",
       "    <tr style=\"text-align: right;\">\n",
       "      <th></th>\n",
       "      <th>OBJECTID</th>\n",
       "      <th>COMPETE4LA ID</th>\n",
       "      <th>TIER</th>\n",
       "      <th>COMPANY NAME</th>\n",
       "      <th>BUSINESS ADDRESS</th>\n",
       "      <th>BUSINESS CITY</th>\n",
       "      <th>BUSINESS STATE</th>\n",
       "      <th>BUSINESS ZIP CODE</th>\n",
       "      <th>BUSINESS ZIP4</th>\n",
       "      <th>PHONE #</th>\n",
       "      <th>...</th>\n",
       "      <th>CALL STATUS</th>\n",
       "      <th>IGID</th>\n",
       "      <th>FIELD62</th>\n",
       "      <th>CONTACT FULL NAME</th>\n",
       "      <th>OBJECTID_1</th>\n",
       "      <th>Join_Count</th>\n",
       "      <th>TARGET_FID</th>\n",
       "      <th>SBA-MO</th>\n",
       "      <th>SBA-VO</th>\n",
       "      <th>SBA-NAO</th>\n",
       "    </tr>\n",
       "  </thead>\n",
       "  <tbody>\n",
       "    <tr>\n",
       "      <th>0</th>\n",
       "      <td>1</td>\n",
       "      <td>NaN</td>\n",
       "      <td>2.0</td>\n",
       "      <td>LUCAS AUTO</td>\n",
       "      <td>14155 OXNARD ST</td>\n",
       "      <td>VAN NUYS</td>\n",
       "      <td>CA</td>\n",
       "      <td>91401</td>\n",
       "      <td>3607.0</td>\n",
       "      <td>8.187824e+09</td>\n",
       "      <td>...</td>\n",
       "      <td>NaN</td>\n",
       "      <td>NaN</td>\n",
       "      <td>NaN</td>\n",
       "      <td>NaN</td>\n",
       "      <td>NaN</td>\n",
       "      <td>NaN</td>\n",
       "      <td>NaN</td>\n",
       "      <td>no</td>\n",
       "      <td>no</td>\n",
       "      <td>no</td>\n",
       "    </tr>\n",
       "    <tr>\n",
       "      <th>1</th>\n",
       "      <td>2</td>\n",
       "      <td>NaN</td>\n",
       "      <td>4.0</td>\n",
       "      <td>GENERAL NUCLEONICS INC</td>\n",
       "      <td>2807 METROPOLITAN PL</td>\n",
       "      <td>POMONA</td>\n",
       "      <td>CA</td>\n",
       "      <td>91767</td>\n",
       "      <td>1853.0</td>\n",
       "      <td>9.095935e+09</td>\n",
       "      <td>...</td>\n",
       "      <td>NaN</td>\n",
       "      <td>NaN</td>\n",
       "      <td>NaN</td>\n",
       "      <td>NaN</td>\n",
       "      <td>NaN</td>\n",
       "      <td>NaN</td>\n",
       "      <td>NaN</td>\n",
       "      <td>no</td>\n",
       "      <td>no</td>\n",
       "      <td>no</td>\n",
       "    </tr>\n",
       "    <tr>\n",
       "      <th>2</th>\n",
       "      <td>3</td>\n",
       "      <td>NaN</td>\n",
       "      <td>4.0</td>\n",
       "      <td>WESTCHESTER HOMETOWN NEWS</td>\n",
       "      <td>6605 W 80TH ST</td>\n",
       "      <td>LOS ANGELES</td>\n",
       "      <td>CA</td>\n",
       "      <td>90045</td>\n",
       "      <td>1166.0</td>\n",
       "      <td>3.106411e+09</td>\n",
       "      <td>...</td>\n",
       "      <td>NaN</td>\n",
       "      <td>NaN</td>\n",
       "      <td>NaN</td>\n",
       "      <td>NaN</td>\n",
       "      <td>NaN</td>\n",
       "      <td>NaN</td>\n",
       "      <td>NaN</td>\n",
       "      <td>no</td>\n",
       "      <td>no</td>\n",
       "      <td>no</td>\n",
       "    </tr>\n",
       "    <tr>\n",
       "      <th>3</th>\n",
       "      <td>4</td>\n",
       "      <td>NaN</td>\n",
       "      <td>4.0</td>\n",
       "      <td>MEL O DEE ICE CREAM CO</td>\n",
       "      <td>12305 INDUSTRIAL AVE</td>\n",
       "      <td>SOUTH GATE</td>\n",
       "      <td>CA</td>\n",
       "      <td>90280</td>\n",
       "      <td>8219.0</td>\n",
       "      <td>5.625311e+09</td>\n",
       "      <td>...</td>\n",
       "      <td>NaN</td>\n",
       "      <td>NaN</td>\n",
       "      <td>NaN</td>\n",
       "      <td>NaN</td>\n",
       "      <td>NaN</td>\n",
       "      <td>NaN</td>\n",
       "      <td>NaN</td>\n",
       "      <td>no</td>\n",
       "      <td>no</td>\n",
       "      <td>no</td>\n",
       "    </tr>\n",
       "    <tr>\n",
       "      <th>4</th>\n",
       "      <td>5</td>\n",
       "      <td>NaN</td>\n",
       "      <td>4.0</td>\n",
       "      <td>RIVERA</td>\n",
       "      <td>1280 PRODUCE ROW</td>\n",
       "      <td>LOS ANGELES</td>\n",
       "      <td>CA</td>\n",
       "      <td>90021</td>\n",
       "      <td>1836.0</td>\n",
       "      <td>2.136291e+09</td>\n",
       "      <td>...</td>\n",
       "      <td>NaN</td>\n",
       "      <td>NaN</td>\n",
       "      <td>NaN</td>\n",
       "      <td>NaN</td>\n",
       "      <td>NaN</td>\n",
       "      <td>NaN</td>\n",
       "      <td>NaN</td>\n",
       "      <td>no</td>\n",
       "      <td>no</td>\n",
       "      <td>no</td>\n",
       "    </tr>\n",
       "  </tbody>\n",
       "</table>\n",
       "<p>5 rows × 98 columns</p>\n",
       "</div>"
      ],
      "text/plain": [
       "   OBJECTID  COMPETE4LA ID  TIER               COMPANY NAME  \\\n",
       "0         1            NaN   2.0                 LUCAS AUTO   \n",
       "1         2            NaN   4.0     GENERAL NUCLEONICS INC   \n",
       "2         3            NaN   4.0  WESTCHESTER HOMETOWN NEWS   \n",
       "3         4            NaN   4.0     MEL O DEE ICE CREAM CO   \n",
       "4         5            NaN   4.0                     RIVERA   \n",
       "\n",
       "       BUSINESS ADDRESS BUSINESS CITY BUSINESS STATE  BUSINESS ZIP CODE  \\\n",
       "0       14155 OXNARD ST      VAN NUYS             CA              91401   \n",
       "1  2807 METROPOLITAN PL        POMONA             CA              91767   \n",
       "2        6605 W 80TH ST   LOS ANGELES             CA              90045   \n",
       "3  12305 INDUSTRIAL AVE    SOUTH GATE             CA              90280   \n",
       "4      1280 PRODUCE ROW   LOS ANGELES             CA              90021   \n",
       "\n",
       "   BUSINESS ZIP4       PHONE #  ...  CALL STATUS  IGID FIELD62  \\\n",
       "0         3607.0  8.187824e+09  ...          NaN   NaN     NaN   \n",
       "1         1853.0  9.095935e+09  ...          NaN   NaN     NaN   \n",
       "2         1166.0  3.106411e+09  ...          NaN   NaN     NaN   \n",
       "3         8219.0  5.625311e+09  ...          NaN   NaN     NaN   \n",
       "4         1836.0  2.136291e+09  ...          NaN   NaN     NaN   \n",
       "\n",
       "   CONTACT FULL NAME OBJECTID_1 Join_Count TARGET_FID SBA-MO SBA-VO SBA-NAO  \n",
       "0                NaN        NaN        NaN        NaN     no     no      no  \n",
       "1                NaN        NaN        NaN        NaN     no     no      no  \n",
       "2                NaN        NaN        NaN        NaN     no     no      no  \n",
       "3                NaN        NaN        NaN        NaN     no     no      no  \n",
       "4                NaN        NaN        NaN        NaN     no     no      no  \n",
       "\n",
       "[5 rows x 98 columns]"
      ]
     },
     "execution_count": 15,
     "metadata": {},
     "output_type": "execute_result"
    }
   ],
   "source": [
    "compiled_spreadsheet.head()"
   ]
  },
  {
   "cell_type": "code",
   "execution_count": 16,
   "id": "e5c1fb97-4456-461c-8c4e-16bef7fc59f1",
   "metadata": {
    "tags": []
   },
   "outputs": [],
   "source": [
    "compiled_spreadsheet.to_csv(\"C:/Users/User/Downloads/Excel Spreadsheets/USC Center for Economic Development/LABC_Generated_Spreadsheet.csv\")"
   ]
  },
  {
   "cell_type": "markdown",
   "id": "dcfcc3ed-9b2e-4296-a6f0-465739d5b7f6",
   "metadata": {},
   "source": [
    "END OF CODE (Last Edited 3/20)"
   ]
  }
 ],
 "metadata": {
  "kernelspec": {
   "display_name": "Python 3 (ipykernel)",
   "language": "python",
   "name": "python3"
  },
  "language_info": {
   "codemirror_mode": {
    "name": "ipython",
    "version": 3
   },
   "file_extension": ".py",
   "mimetype": "text/x-python",
   "name": "python",
   "nbconvert_exporter": "python",
   "pygments_lexer": "ipython3",
   "version": "3.10.9"
  }
 },
 "nbformat": 4,
 "nbformat_minor": 5
}
